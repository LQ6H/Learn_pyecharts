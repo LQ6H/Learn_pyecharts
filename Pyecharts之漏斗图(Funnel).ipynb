{
 "cells": [
  {
   "cell_type": "markdown",
   "metadata": {},
   "source": [
    "# Pyecharts之漏斗图(Funnel)"
   ]
  },
  {
   "cell_type": "markdown",
   "metadata": {},
   "source": [
    "## 一.基本概念"
   ]
  },
  {
   "cell_type": "markdown",
   "metadata": {},
   "source": [
    "> class pyecharts.charts.Funnel"
   ]
  },
  {
   "cell_type": "code",
   "execution_count": null,
   "metadata": {},
   "outputs": [],
   "source": [
    "class Funnel(\n",
    "    # 初始化配置项，参考 `global_options.InitOpts`\n",
    "    init_opts: opts.InitOpts = opts.InitOpts()\n",
    ")"
   ]
  },
  {
   "cell_type": "markdown",
   "metadata": {},
   "source": [
    "> func pyecharts.charts.Funnel.add"
   ]
  },
  {
   "cell_type": "code",
   "execution_count": null,
   "metadata": {},
   "outputs": [],
   "source": [
    "def add(\n",
    "    # 系列名称，用于 tooltip 的显示，legend 的图例筛选。\n",
    "    series_name: str,\n",
    "\n",
    "    # 系列数据项，格式为 [(key1, value1), (key2, value2)]\n",
    "    data_pair: Sequence,\n",
    "\n",
    "    # 是否选中图例\n",
    "    is_selected: bool = True,\n",
    "\n",
    "    # 系列 label 颜色\n",
    "    color: Optional[str] = None,\n",
    "\n",
    "    # 数据排序， 可以取 'ascending'，'descending'，'none'（表示按 data 顺序）\n",
    "    sort_: str = \"descending\",\n",
    "\n",
    "    # 数据图形间距\n",
    "    gap: Numeric = 0,\n",
    "\n",
    "    # 标签配置项，参考 `series_options.LabelOpts`\n",
    "    label_opts: Union[opts.LabelOpts, dict] = opts.LabelOpts(),\n",
    "\n",
    "    # 提示框组件配置项，参考 `series_options.TooltipOpts`\n",
    "    tooltip_opts: Union[opts.TooltipOpts, dict, None] = None,\n",
    "\n",
    "    # 图元样式配置项，参考 `series_options.ItemStyleOpts`\n",
    "    itemstyle_opts: Union[opts.ItemStyleOpts, dict, None] = None,\n",
    ")"
   ]
  },
  {
   "cell_type": "markdown",
   "metadata": {},
   "source": [
    "## 二.代码示例"
   ]
  },
  {
   "cell_type": "markdown",
   "metadata": {},
   "source": [
    "### 1.Funnel_sort_ascending"
   ]
  },
  {
   "cell_type": "code",
   "execution_count": 1,
   "metadata": {},
   "outputs": [],
   "source": [
    "from snapshot_selenium import snapshot as driver\n",
    "\n",
    "from pyecharts import options as opts\n",
    "from pyecharts.charts import Bar\n",
    "from pyecharts.render import make_snapshot"
   ]
  },
  {
   "cell_type": "code",
   "execution_count": 7,
   "metadata": {},
   "outputs": [],
   "source": [
    "from pyecharts import options as opts\n",
    "from pyecharts.charts import Funnel\n",
    "from pyecharts.faker import Faker\n",
    "\n",
    "c = (\n",
    "    Funnel()\n",
    "    .add(\n",
    "        \"商品\",\n",
    "        [list(z) for z in zip(Faker.choose(), Faker.values())],\n",
    "        sort_=\"ascending\",\n",
    "        label_opts=opts.LabelOpts(position=\"inside\"),\n",
    "    )\n",
    "    .set_global_opts(title_opts=opts.TitleOpts(title=\"Funnel-Sort（ascending）\"),toolbox_opts=opts.ToolboxOpts())\n",
    ")\n",
    "\n",
    "make_snapshot(driver,c.render(\"funnel_sort_ascending.html\"),\"funnel_sort_ascending.png\")"
   ]
  },
  {
   "cell_type": "markdown",
   "metadata": {},
   "source": [
    "### 2.Funnel_base"
   ]
  },
  {
   "cell_type": "code",
   "execution_count": 8,
   "metadata": {},
   "outputs": [],
   "source": [
    "from pyecharts import options as opts\n",
    "from pyecharts.charts import Funnel\n",
    "from pyecharts.faker import Faker\n",
    "\n",
    "c = (\n",
    "    Funnel()\n",
    "    .add(\"商品\", [list(z) for z in zip(Faker.choose(), Faker.values())])\n",
    "    .set_global_opts(title_opts=opts.TitleOpts(title=\"Funnel-基本示例\"))\n",
    "    #.render(\"funnel_base.html\")\n",
    ")\n",
    "\n",
    "make_snapshot(driver,c.render(\"funnel_base.html\"),\"funnel_base.png\")"
   ]
  },
  {
   "cell_type": "markdown",
   "metadata": {},
   "source": [
    "### 3.Funnel_chart"
   ]
  },
  {
   "cell_type": "code",
   "execution_count": 9,
   "metadata": {},
   "outputs": [],
   "source": [
    "import pyecharts.options as opts\n",
    "from pyecharts.charts import Funnel\n",
    "\n",
    "\n",
    "x_data = [\"展现\", \"点击\", \"访问\", \"咨询\", \"订单\"]\n",
    "y_data = [100, 80, 60, 40, 20]\n",
    "\n",
    "data = [[x_data[i], y_data[i]] for i in range(len(x_data))]\n",
    "\n",
    "(\n",
    "    Funnel(init_opts=opts.InitOpts(width=\"1600px\", height=\"800px\"))\n",
    "    .add(\n",
    "        series_name=\"\",\n",
    "        data_pair=data,\n",
    "        gap=2,\n",
    "        tooltip_opts=opts.TooltipOpts(trigger=\"item\", formatter=\"{a} <br/>{b} : {c}%\"),\n",
    "        label_opts=opts.LabelOpts(is_show=True, position=\"inside\"),\n",
    "        itemstyle_opts=opts.ItemStyleOpts(border_color=\"#fff\", border_width=1),\n",
    "    )\n",
    "    .set_global_opts(title_opts=opts.TitleOpts(title=\"漏斗图\", subtitle=\"纯属虚构\"))\n",
    "    #.render(\"funnel_chart.html\")\n",
    ")\n",
    "\n",
    "make_snapshot(driver,c.render(\"funnel_chart.html\"),\"funnel_chart.png\")"
   ]
  },
  {
   "cell_type": "markdown",
   "metadata": {},
   "source": [
    "### 4.Funnel_label_inside"
   ]
  },
  {
   "cell_type": "code",
   "execution_count": 10,
   "metadata": {},
   "outputs": [],
   "source": [
    "from pyecharts import options as opts\n",
    "from pyecharts.charts import Funnel\n",
    "from pyecharts.faker import Faker\n",
    "\n",
    "\n",
    "c = (\n",
    "    Funnel()\n",
    "    .add(\n",
    "        \"商品\",\n",
    "        [list(z) for z in zip(Faker.choose(), Faker.values())],\n",
    "        label_opts=opts.LabelOpts(position=\"inside\"),\n",
    "    )\n",
    "    .set_global_opts(title_opts=opts.TitleOpts(title=\"Funnel-Label（inside)\"))\n",
    "    #.render(\"funnel_label_inside.html\")\n",
    ")\n",
    "\n",
    "make_snapshot(driver,c.render(\"funnel_label_inside.html\"),\"funnel_label_inside.png\")"
   ]
  },
  {
   "cell_type": "markdown",
   "metadata": {},
   "source": [
    "## 三.实例演示"
   ]
  },
  {
   "cell_type": "markdown",
   "metadata": {},
   "source": [
    "> 数据具体处理过程链接：[去哪儿](https://github.com/LQ6H/Python_spider/tree/master/20200402_qunar)"
   ]
  },
  {
   "cell_type": "markdown",
   "metadata": {},
   "source": [
    "### 1.数据处理及获取"
   ]
  },
  {
   "cell_type": "code",
   "execution_count": 18,
   "metadata": {},
   "outputs": [
    {
     "data": {
      "text/html": [
       "<div>\n",
       "<style scoped>\n",
       "    .dataframe tbody tr th:only-of-type {\n",
       "        vertical-align: middle;\n",
       "    }\n",
       "\n",
       "    .dataframe tbody tr th {\n",
       "        vertical-align: top;\n",
       "    }\n",
       "\n",
       "    .dataframe thead th {\n",
       "        text-align: right;\n",
       "    }\n",
       "</style>\n",
       "<table border=\"1\" class=\"dataframe\">\n",
       "  <thead>\n",
       "    <tr style=\"text-align: right;\">\n",
       "      <th></th>\n",
       "      <th>地点</th>\n",
       "      <th>短评</th>\n",
       "      <th>出发时间</th>\n",
       "      <th>天数</th>\n",
       "      <th>人均费用</th>\n",
       "      <th>人物</th>\n",
       "      <th>玩法</th>\n",
       "      <th>浏览量</th>\n",
       "    </tr>\n",
       "  </thead>\n",
       "  <tbody>\n",
       "    <tr>\n",
       "      <th>0</th>\n",
       "      <td>婺源</td>\n",
       "      <td>春天的婺源，油菜花开，宛如一幅诗情画意的水墨画</td>\n",
       "      <td>/2020/04/01</td>\n",
       "      <td>5</td>\n",
       "      <td>3000</td>\n",
       "      <td>三五好友</td>\n",
       "      <td>第一次 美食</td>\n",
       "      <td>9055</td>\n",
       "    </tr>\n",
       "    <tr>\n",
       "      <th>1</th>\n",
       "      <td>阿联酋</td>\n",
       "      <td>阿联酋｜小狮妹和父母的新年迪拜之旅</td>\n",
       "      <td>/2019/12/10</td>\n",
       "      <td>8</td>\n",
       "      <td>-</td>\n",
       "      <td>-</td>\n",
       "      <td>-</td>\n",
       "      <td>3860</td>\n",
       "    </tr>\n",
       "    <tr>\n",
       "      <th>2</th>\n",
       "      <td>AguadePau</td>\n",
       "      <td>来自《一个女生的古巴独行记》（11日自由行攻略）</td>\n",
       "      <td>/2019/09/27</td>\n",
       "      <td>11</td>\n",
       "      <td>20000</td>\n",
       "      <td>独自一人</td>\n",
       "      <td>深度游 美食 摄影 国庆</td>\n",
       "      <td>261</td>\n",
       "    </tr>\n",
       "    <tr>\n",
       "      <th>3</th>\n",
       "      <td>建水</td>\n",
       "      <td>云南│我什么也没忘，但有些事只适合收藏</td>\n",
       "      <td>/2019/10/10</td>\n",
       "      <td>8</td>\n",
       "      <td>4000</td>\n",
       "      <td>三五好友</td>\n",
       "      <td>穷游 摄影 古镇 赏秋 国庆</td>\n",
       "      <td>6176</td>\n",
       "    </tr>\n",
       "    <tr>\n",
       "      <th>4</th>\n",
       "      <td>日本</td>\n",
       "      <td>日本｜东京の72小时</td>\n",
       "      <td>/2019/09/21</td>\n",
       "      <td>8</td>\n",
       "      <td>-</td>\n",
       "      <td>-</td>\n",
       "      <td>-</td>\n",
       "      <td>1.2万</td>\n",
       "    </tr>\n",
       "  </tbody>\n",
       "</table>\n",
       "</div>"
      ],
      "text/plain": [
       "          地点                        短评         出发时间  天数   人均费用    人物  \\\n",
       "0         婺源   春天的婺源，油菜花开，宛如一幅诗情画意的水墨画  /2020/04/01   5   3000  三五好友   \n",
       "1        阿联酋         阿联酋｜小狮妹和父母的新年迪拜之旅  /2019/12/10   8      -     -   \n",
       "2  AguadePau  来自《一个女生的古巴独行记》（11日自由行攻略）  /2019/09/27  11  20000  独自一人   \n",
       "3         建水       云南│我什么也没忘，但有些事只适合收藏  /2019/10/10   8   4000  三五好友   \n",
       "4         日本                日本｜东京の72小时  /2019/09/21   8      -     -   \n",
       "\n",
       "               玩法   浏览量  \n",
       "0          第一次 美食  9055  \n",
       "1               -  3860  \n",
       "2    深度游 美食 摄影 国庆   261  \n",
       "3  穷游 摄影 古镇 赏秋 国庆  6176  \n",
       "4               -  1.2万  "
      ]
     },
     "execution_count": 18,
     "metadata": {},
     "output_type": "execute_result"
    }
   ],
   "source": [
    "import pandas as pd\n",
    "\n",
    "data=pd.read_csv(\"travel2.csv\")\n",
    "data.head()"
   ]
  },
  {
   "cell_type": "code",
   "execution_count": 19,
   "metadata": {},
   "outputs": [],
   "source": [
    "import re\n",
    "\n",
    "def Look(e):\n",
    "    \n",
    "    if '万' in e:\n",
    "        num=re.findall('(.*?)万',e)\n",
    "        return float(num[0])*10000\n",
    "    else:\n",
    "        return float(e)\n",
    "    \n",
    "data['浏览次数']=data['浏览量'].apply(Look)\n",
    "data.drop(['浏览量'],axis=1,inplace=True)\n",
    "data['浏览次数']=data['浏览次数'].astype(int)"
   ]
  },
  {
   "cell_type": "code",
   "execution_count": 22,
   "metadata": {},
   "outputs": [
    {
     "data": {
      "text/html": [
       "<div>\n",
       "<style scoped>\n",
       "    .dataframe tbody tr th:only-of-type {\n",
       "        vertical-align: middle;\n",
       "    }\n",
       "\n",
       "    .dataframe tbody tr th {\n",
       "        vertical-align: top;\n",
       "    }\n",
       "\n",
       "    .dataframe thead th {\n",
       "        text-align: right;\n",
       "    }\n",
       "</style>\n",
       "<table border=\"1\" class=\"dataframe\">\n",
       "  <thead>\n",
       "    <tr style=\"text-align: right;\">\n",
       "      <th></th>\n",
       "      <th>地点</th>\n",
       "      <th>短评</th>\n",
       "      <th>出发时间</th>\n",
       "      <th>天数</th>\n",
       "      <th>人均费用</th>\n",
       "      <th>人物</th>\n",
       "      <th>玩法</th>\n",
       "      <th>浏览次数</th>\n",
       "    </tr>\n",
       "  </thead>\n",
       "  <tbody>\n",
       "    <tr>\n",
       "      <th>0</th>\n",
       "      <td>婺源</td>\n",
       "      <td>春天的婺源，油菜花开，宛如一幅诗情画意的水墨画</td>\n",
       "      <td>/2020/04/01</td>\n",
       "      <td>5</td>\n",
       "      <td>3000</td>\n",
       "      <td>三五好友</td>\n",
       "      <td>第一次 美食</td>\n",
       "      <td>9055</td>\n",
       "    </tr>\n",
       "    <tr>\n",
       "      <th>1</th>\n",
       "      <td>阿联酋</td>\n",
       "      <td>阿联酋｜小狮妹和父母的新年迪拜之旅</td>\n",
       "      <td>/2019/12/10</td>\n",
       "      <td>8</td>\n",
       "      <td>-</td>\n",
       "      <td>-</td>\n",
       "      <td>-</td>\n",
       "      <td>3860</td>\n",
       "    </tr>\n",
       "    <tr>\n",
       "      <th>2</th>\n",
       "      <td>AguadePau</td>\n",
       "      <td>来自《一个女生的古巴独行记》（11日自由行攻略）</td>\n",
       "      <td>/2019/09/27</td>\n",
       "      <td>11</td>\n",
       "      <td>20000</td>\n",
       "      <td>独自一人</td>\n",
       "      <td>深度游 美食 摄影 国庆</td>\n",
       "      <td>261</td>\n",
       "    </tr>\n",
       "    <tr>\n",
       "      <th>3</th>\n",
       "      <td>建水</td>\n",
       "      <td>云南│我什么也没忘，但有些事只适合收藏</td>\n",
       "      <td>/2019/10/10</td>\n",
       "      <td>8</td>\n",
       "      <td>4000</td>\n",
       "      <td>三五好友</td>\n",
       "      <td>穷游 摄影 古镇 赏秋 国庆</td>\n",
       "      <td>6176</td>\n",
       "    </tr>\n",
       "    <tr>\n",
       "      <th>4</th>\n",
       "      <td>日本</td>\n",
       "      <td>日本｜东京の72小时</td>\n",
       "      <td>/2019/09/21</td>\n",
       "      <td>8</td>\n",
       "      <td>-</td>\n",
       "      <td>-</td>\n",
       "      <td>-</td>\n",
       "      <td>12000</td>\n",
       "    </tr>\n",
       "    <tr>\n",
       "      <th>5</th>\n",
       "      <td>海宁</td>\n",
       "      <td>海洪宁静，盐潮入官，百里钱塘，春暖花开--驾“浙”观大潮访金庸、赏樱花睡房车</td>\n",
       "      <td>/2020/03/23</td>\n",
       "      <td>2</td>\n",
       "      <td>900</td>\n",
       "      <td>情侣</td>\n",
       "      <td>自驾 赏樱 踏春 清明</td>\n",
       "      <td>22000</td>\n",
       "    </tr>\n",
       "    <tr>\n",
       "      <th>6</th>\n",
       "      <td>敦煌</td>\n",
       "      <td>甘青│到远方去，到那个山野苍茫的远方，熟悉的地方没有景色</td>\n",
       "      <td>/2019/05/10</td>\n",
       "      <td>10</td>\n",
       "      <td>3500</td>\n",
       "      <td>三五好友</td>\n",
       "      <td>环游 毕业游 穷游</td>\n",
       "      <td>14000</td>\n",
       "    </tr>\n",
       "  </tbody>\n",
       "</table>\n",
       "</div>"
      ],
      "text/plain": [
       "          地点                                      短评         出发时间  天数   人均费用  \\\n",
       "0         婺源                 春天的婺源，油菜花开，宛如一幅诗情画意的水墨画  /2020/04/01   5   3000   \n",
       "1        阿联酋                       阿联酋｜小狮妹和父母的新年迪拜之旅  /2019/12/10   8      -   \n",
       "2  AguadePau                来自《一个女生的古巴独行记》（11日自由行攻略）  /2019/09/27  11  20000   \n",
       "3         建水                     云南│我什么也没忘，但有些事只适合收藏  /2019/10/10   8   4000   \n",
       "4         日本                              日本｜东京の72小时  /2019/09/21   8      -   \n",
       "5         海宁  海洪宁静，盐潮入官，百里钱塘，春暖花开--驾“浙”观大潮访金庸、赏樱花睡房车  /2020/03/23   2    900   \n",
       "6         敦煌            甘青│到远方去，到那个山野苍茫的远方，熟悉的地方没有景色  /2019/05/10  10   3500   \n",
       "\n",
       "     人物              玩法   浏览次数  \n",
       "0  三五好友          第一次 美食   9055  \n",
       "1     -               -   3860  \n",
       "2  独自一人    深度游 美食 摄影 国庆    261  \n",
       "3  三五好友  穷游 摄影 古镇 赏秋 国庆   6176  \n",
       "4     -               -  12000  \n",
       "5    情侣     自驾 赏樱 踏春 清明  22000  \n",
       "6  三五好友       环游 毕业游 穷游  14000  "
      ]
     },
     "execution_count": 22,
     "metadata": {},
     "output_type": "execute_result"
    }
   ],
   "source": [
    "data.head(7)"
   ]
  },
  {
   "cell_type": "code",
   "execution_count": 24,
   "metadata": {},
   "outputs": [
    {
     "data": {
      "text/html": [
       "<div>\n",
       "<style scoped>\n",
       "    .dataframe tbody tr th:only-of-type {\n",
       "        vertical-align: middle;\n",
       "    }\n",
       "\n",
       "    .dataframe tbody tr th {\n",
       "        vertical-align: top;\n",
       "    }\n",
       "\n",
       "    .dataframe thead th {\n",
       "        text-align: right;\n",
       "    }\n",
       "</style>\n",
       "<table border=\"1\" class=\"dataframe\">\n",
       "  <thead>\n",
       "    <tr style=\"text-align: right;\">\n",
       "      <th></th>\n",
       "      <th>地点</th>\n",
       "      <th>短评</th>\n",
       "      <th>出发时间</th>\n",
       "      <th>天数</th>\n",
       "      <th>人均费用</th>\n",
       "      <th>人物</th>\n",
       "      <th>玩法</th>\n",
       "      <th>浏览次数</th>\n",
       "    </tr>\n",
       "  </thead>\n",
       "  <tbody>\n",
       "    <tr>\n",
       "      <th>0</th>\n",
       "      <td>婺源</td>\n",
       "      <td>春天的婺源，油菜花开，宛如一幅诗情画意的水墨画</td>\n",
       "      <td>/2020/04/01</td>\n",
       "      <td>5</td>\n",
       "      <td>3000</td>\n",
       "      <td>三五好友</td>\n",
       "      <td>第一次 美食</td>\n",
       "      <td>9055</td>\n",
       "    </tr>\n",
       "    <tr>\n",
       "      <th>1</th>\n",
       "      <td>阿联酋</td>\n",
       "      <td>阿联酋｜小狮妹和父母的新年迪拜之旅</td>\n",
       "      <td>/2019/12/10</td>\n",
       "      <td>8</td>\n",
       "      <td>-</td>\n",
       "      <td>-</td>\n",
       "      <td>-</td>\n",
       "      <td>3860</td>\n",
       "    </tr>\n",
       "    <tr>\n",
       "      <th>2</th>\n",
       "      <td>AguadePau</td>\n",
       "      <td>来自《一个女生的古巴独行记》（11日自由行攻略）</td>\n",
       "      <td>/2019/09/27</td>\n",
       "      <td>11</td>\n",
       "      <td>20000</td>\n",
       "      <td>独自一人</td>\n",
       "      <td>深度游 美食 摄影 国庆</td>\n",
       "      <td>261</td>\n",
       "    </tr>\n",
       "    <tr>\n",
       "      <th>3</th>\n",
       "      <td>建水</td>\n",
       "      <td>云南│我什么也没忘，但有些事只适合收藏</td>\n",
       "      <td>/2019/10/10</td>\n",
       "      <td>8</td>\n",
       "      <td>4000</td>\n",
       "      <td>三五好友</td>\n",
       "      <td>穷游 摄影 古镇 赏秋 国庆</td>\n",
       "      <td>6176</td>\n",
       "    </tr>\n",
       "    <tr>\n",
       "      <th>4</th>\n",
       "      <td>日本</td>\n",
       "      <td>日本｜东京の72小时</td>\n",
       "      <td>/2019/09/21</td>\n",
       "      <td>8</td>\n",
       "      <td>-</td>\n",
       "      <td>-</td>\n",
       "      <td>-</td>\n",
       "      <td>12000</td>\n",
       "    </tr>\n",
       "    <tr>\n",
       "      <th>5</th>\n",
       "      <td>海宁</td>\n",
       "      <td>海洪宁静，盐潮入官，百里钱塘，春暖花开--驾“浙”观大潮访金庸、赏樱花睡房车</td>\n",
       "      <td>/2020/03/23</td>\n",
       "      <td>2</td>\n",
       "      <td>900</td>\n",
       "      <td>情侣</td>\n",
       "      <td>自驾 赏樱 踏春 清明</td>\n",
       "      <td>22000</td>\n",
       "    </tr>\n",
       "    <tr>\n",
       "      <th>6</th>\n",
       "      <td>敦煌</td>\n",
       "      <td>甘青│到远方去，到那个山野苍茫的远方，熟悉的地方没有景色</td>\n",
       "      <td>/2019/05/10</td>\n",
       "      <td>10</td>\n",
       "      <td>3500</td>\n",
       "      <td>三五好友</td>\n",
       "      <td>环游 毕业游 穷游</td>\n",
       "      <td>14000</td>\n",
       "    </tr>\n",
       "  </tbody>\n",
       "</table>\n",
       "</div>"
      ],
      "text/plain": [
       "          地点                                      短评         出发时间  天数   人均费用  \\\n",
       "0         婺源                 春天的婺源，油菜花开，宛如一幅诗情画意的水墨画  /2020/04/01   5   3000   \n",
       "1        阿联酋                       阿联酋｜小狮妹和父母的新年迪拜之旅  /2019/12/10   8      -   \n",
       "2  AguadePau                来自《一个女生的古巴独行记》（11日自由行攻略）  /2019/09/27  11  20000   \n",
       "3         建水                     云南│我什么也没忘，但有些事只适合收藏  /2019/10/10   8   4000   \n",
       "4         日本                              日本｜东京の72小时  /2019/09/21   8      -   \n",
       "5         海宁  海洪宁静，盐潮入官，百里钱塘，春暖花开--驾“浙”观大潮访金庸、赏樱花睡房车  /2020/03/23   2    900   \n",
       "6         敦煌            甘青│到远方去，到那个山野苍茫的远方，熟悉的地方没有景色  /2019/05/10  10   3500   \n",
       "\n",
       "     人物              玩法   浏览次数  \n",
       "0  三五好友          第一次 美食   9055  \n",
       "1     -               -   3860  \n",
       "2  独自一人    深度游 美食 摄影 国庆    261  \n",
       "3  三五好友  穷游 摄影 古镇 赏秋 国庆   6176  \n",
       "4     -               -  12000  \n",
       "5    情侣     自驾 赏樱 踏春 清明  22000  \n",
       "6  三五好友       环游 毕业游 穷游  14000  "
      ]
     },
     "execution_count": 24,
     "metadata": {},
     "output_type": "execute_result"
    }
   ],
   "source": [
    "data1=data.head(7)\n",
    "data1"
   ]
  },
  {
   "cell_type": "code",
   "execution_count": 26,
   "metadata": {},
   "outputs": [
    {
     "data": {
      "text/plain": [
       "[('婺源', 9055),\n",
       " ('阿联酋', 3860),\n",
       " ('AguadePau', 261),\n",
       " ('建水', 6176),\n",
       " ('日本', 12000),\n",
       " ('海宁', 22000),\n",
       " ('敦煌', 14000)]"
      ]
     },
     "execution_count": 26,
     "metadata": {},
     "output_type": "execute_result"
    }
   ],
   "source": [
    "datas=[z for z in zip(data1[\"地点\"].tolist(),data1[\"浏览次数\"].tolist())]\n",
    "datas"
   ]
  },
  {
   "cell_type": "code",
   "execution_count": 31,
   "metadata": {},
   "outputs": [
    {
     "data": {
      "text/plain": [
       "[2, 3]"
      ]
     },
     "execution_count": 31,
     "metadata": {},
     "output_type": "execute_result"
    }
   ],
   "source": [
    "a=[1,2,3]\n",
    "a."
   ]
  },
  {
   "cell_type": "markdown",
   "metadata": {},
   "source": [
    "### 2.展示"
   ]
  },
  {
   "cell_type": "code",
   "execution_count": 28,
   "metadata": {},
   "outputs": [
    {
     "data": {
      "text/plain": [
       "[('婺源', 9055),\n",
       " ('阿联酋', 3860),\n",
       " ('AguadePau', 261),\n",
       " ('建水', 6176),\n",
       " ('日本', 12000),\n",
       " ('海宁', 22000),\n",
       " ('敦煌', 14000)]"
      ]
     },
     "execution_count": 28,
     "metadata": {},
     "output_type": "execute_result"
    }
   ],
   "source": [
    "datas"
   ]
  },
  {
   "cell_type": "code",
   "execution_count": 30,
   "metadata": {},
   "outputs": [],
   "source": [
    "from pyecharts import options as opts\n",
    "from pyecharts.charts import Funnel\n",
    "\n",
    "f=(\n",
    "    Funnel(init_opts=opts.InitOpts(width=\"1000px\",height=\"600px\"))\n",
    "    .add(\n",
    "        series_name=\"地点\",\n",
    "        data_pair=datas,\n",
    "        gap=2,\n",
    "        tooltip_opts=opts.TooltipOpts(trigger=\"item\",formatter=\"{a} <br/>{b}：{c}\"),\n",
    "        label_opts=opts.LabelOpts(is_show=True,position=\"inside\"),\n",
    "        itemstyle_opts=opts.ItemStyleOpts(border_color=\"#fff\",border_width=1)\n",
    "    )\n",
    "    .set_global_opts(title_opts=opts.TitleOpts(title=\"地点\",subtitle=\"浏览数\"))\n",
    ")\n",
    "\n",
    "make_snapshot(driver,f.render(\"qunar_funnel.html\"),\"qunar.png\")"
   ]
  },
  {
   "cell_type": "code",
   "execution_count": 32,
   "metadata": {},
   "outputs": [],
   "source": [
    "from pyecharts.globals import CurrentConfig,NotebookType\n",
    "\n",
    "CurrentConfig.NOTEBOOK_TYPE=NotebookType.JUPYTER_LAB"
   ]
  },
  {
   "cell_type": "code",
   "execution_count": null,
   "metadata": {},
   "outputs": [],
   "source": []
  },
  {
   "cell_type": "code",
   "execution_count": 33,
   "metadata": {},
   "outputs": [
    {
     "data": {
      "application/javascript": [
       "new Promise(function(resolve, reject) {\n",
       "    var script = document.createElement(\"script\");\n",
       "    script.onload = resolve;\n",
       "    script.onerror = reject;\n",
       "    script.src = \"https://assets.pyecharts.org/assets/echarts.min.js\";\n",
       "    document.head.appendChild(script);\n",
       "}).then(() => {\n",
       "\n",
       "});"
      ],
      "text/plain": [
       "<pyecharts.render.display.Javascript at 0x1073d21f188>"
      ]
     },
     "execution_count": 33,
     "metadata": {},
     "output_type": "execute_result"
    }
   ],
   "source": [
    "f.load_javascript()"
   ]
  },
  {
   "cell_type": "code",
   "execution_count": 35,
   "metadata": {},
   "outputs": [
    {
     "data": {
      "text/html": [
       "<!DOCTYPE html>\n",
       "<html>\n",
       "<head>\n",
       "    <meta charset=\"UTF-8\">\n",
       "</head>\n",
       "<body>\n",
       "        <div id=\"e23eca9668114512bdfd464e56c1aac6\" class=\"chart-container\" style=\"width:1000px; height:600px;\"></div>\n",
       "    <script>\n",
       "        var chart_e23eca9668114512bdfd464e56c1aac6 = echarts.init(\n",
       "            document.getElementById('e23eca9668114512bdfd464e56c1aac6'), 'white', {renderer: 'canvas'});\n",
       "        var option_e23eca9668114512bdfd464e56c1aac6 = {\n",
       "    \"animation\": true,\n",
       "    \"animationThreshold\": 2000,\n",
       "    \"animationDuration\": 1000,\n",
       "    \"animationEasing\": \"cubicOut\",\n",
       "    \"animationDelay\": 0,\n",
       "    \"animationDurationUpdate\": 300,\n",
       "    \"animationEasingUpdate\": \"cubicOut\",\n",
       "    \"animationDelayUpdate\": 0,\n",
       "    \"color\": [\n",
       "        \"#c23531\",\n",
       "        \"#2f4554\",\n",
       "        \"#61a0a8\",\n",
       "        \"#d48265\",\n",
       "        \"#749f83\",\n",
       "        \"#ca8622\",\n",
       "        \"#bda29a\",\n",
       "        \"#6e7074\",\n",
       "        \"#546570\",\n",
       "        \"#c4ccd3\",\n",
       "        \"#f05b72\",\n",
       "        \"#ef5b9c\",\n",
       "        \"#f47920\",\n",
       "        \"#905a3d\",\n",
       "        \"#fab27b\",\n",
       "        \"#2a5caa\",\n",
       "        \"#444693\",\n",
       "        \"#726930\",\n",
       "        \"#b2d235\",\n",
       "        \"#6d8346\",\n",
       "        \"#ac6767\",\n",
       "        \"#1d953f\",\n",
       "        \"#6950a1\",\n",
       "        \"#918597\"\n",
       "    ],\n",
       "    \"series\": [\n",
       "        {\n",
       "            \"type\": \"funnel\",\n",
       "            \"name\": \"\\u5730\\u70b9\",\n",
       "            \"data\": [\n",
       "                {\n",
       "                    \"name\": \"\\u5a7a\\u6e90\",\n",
       "                    \"value\": 9055\n",
       "                },\n",
       "                {\n",
       "                    \"name\": \"\\u963f\\u8054\\u914b\",\n",
       "                    \"value\": 3860\n",
       "                },\n",
       "                {\n",
       "                    \"name\": \"AguadePau\",\n",
       "                    \"value\": 261\n",
       "                },\n",
       "                {\n",
       "                    \"name\": \"\\u5efa\\u6c34\",\n",
       "                    \"value\": 6176\n",
       "                },\n",
       "                {\n",
       "                    \"name\": \"\\u65e5\\u672c\",\n",
       "                    \"value\": 12000\n",
       "                },\n",
       "                {\n",
       "                    \"name\": \"\\u6d77\\u5b81\",\n",
       "                    \"value\": 22000\n",
       "                },\n",
       "                {\n",
       "                    \"name\": \"\\u6566\\u714c\",\n",
       "                    \"value\": 14000\n",
       "                }\n",
       "            ],\n",
       "            \"sort\": \"descending\",\n",
       "            \"gap\": 2,\n",
       "            \"label\": {\n",
       "                \"show\": true,\n",
       "                \"position\": \"inside\",\n",
       "                \"margin\": 8\n",
       "            },\n",
       "            \"tooltip\": {\n",
       "                \"show\": true,\n",
       "                \"trigger\": \"item\",\n",
       "                \"triggerOn\": \"mousemove|click\",\n",
       "                \"axisPointer\": {\n",
       "                    \"type\": \"line\"\n",
       "                },\n",
       "                \"formatter\": \"{a} <br/>{b}\\uff1a{c}\",\n",
       "                \"textStyle\": {\n",
       "                    \"fontSize\": 14\n",
       "                },\n",
       "                \"borderWidth\": 0\n",
       "            },\n",
       "            \"itemStyle\": {\n",
       "                \"borderColor\": \"#fff\",\n",
       "                \"borderWidth\": 1\n",
       "            }\n",
       "        }\n",
       "    ],\n",
       "    \"legend\": [\n",
       "        {\n",
       "            \"data\": [\n",
       "                \"AguadePau\",\n",
       "                \"\\u963f\\u8054\\u914b\",\n",
       "                \"\\u5efa\\u6c34\",\n",
       "                \"\\u6d77\\u5b81\",\n",
       "                \"\\u5a7a\\u6e90\",\n",
       "                \"\\u6566\\u714c\",\n",
       "                \"\\u65e5\\u672c\"\n",
       "            ],\n",
       "            \"selected\": {\n",
       "                \"\\u5a7a\\u6e90\": true,\n",
       "                \"\\u963f\\u8054\\u914b\": true,\n",
       "                \"AguadePau\": true,\n",
       "                \"\\u5efa\\u6c34\": true,\n",
       "                \"\\u65e5\\u672c\": true,\n",
       "                \"\\u6d77\\u5b81\": true,\n",
       "                \"\\u6566\\u714c\": true\n",
       "            },\n",
       "            \"show\": true,\n",
       "            \"padding\": 5,\n",
       "            \"itemGap\": 10,\n",
       "            \"itemWidth\": 25,\n",
       "            \"itemHeight\": 14\n",
       "        }\n",
       "    ],\n",
       "    \"tooltip\": {\n",
       "        \"show\": true,\n",
       "        \"trigger\": \"item\",\n",
       "        \"triggerOn\": \"mousemove|click\",\n",
       "        \"axisPointer\": {\n",
       "            \"type\": \"line\"\n",
       "        },\n",
       "        \"textStyle\": {\n",
       "            \"fontSize\": 14\n",
       "        },\n",
       "        \"borderWidth\": 0\n",
       "    },\n",
       "    \"title\": [\n",
       "        {\n",
       "            \"text\": \"\\u5730\\u70b9\",\n",
       "            \"subtext\": \"\\u6d4f\\u89c8\\u6570\",\n",
       "            \"padding\": 5,\n",
       "            \"itemGap\": 10\n",
       "        }\n",
       "    ]\n",
       "};\n",
       "        chart_e23eca9668114512bdfd464e56c1aac6.setOption(option_e23eca9668114512bdfd464e56c1aac6);\n",
       "    </script>\n",
       "</body>\n",
       "</html>\n"
      ],
      "text/plain": [
       "<pyecharts.render.display.HTML at 0x1073cef6948>"
      ]
     },
     "execution_count": 35,
     "metadata": {},
     "output_type": "execute_result"
    }
   ],
   "source": [
    "f.render_notebook()"
   ]
  },
  {
   "cell_type": "code",
   "execution_count": null,
   "metadata": {},
   "outputs": [],
   "source": []
  },
  {
   "cell_type": "code",
   "execution_count": null,
   "metadata": {},
   "outputs": [],
   "source": []
  }
 ],
 "metadata": {
  "kernelspec": {
   "display_name": "Python 3",
   "language": "python",
   "name": "python3"
  },
  "language_info": {
   "codemirror_mode": {
    "name": "ipython",
    "version": 3
   },
   "file_extension": ".py",
   "mimetype": "text/x-python",
   "name": "python",
   "nbconvert_exporter": "python",
   "pygments_lexer": "ipython3",
   "version": "3.7.6"
  }
 },
 "nbformat": 4,
 "nbformat_minor": 4
}
